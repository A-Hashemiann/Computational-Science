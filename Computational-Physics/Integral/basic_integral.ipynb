{
 "cells": [
  {
   "cell_type": "markdown",
   "id": "6b81526b-35cd-4cf2-8121-77aff9b3b6b9",
   "metadata": {},
   "source": [
    "# Integration methods\n",
    "- Amin Hashemian"
   ]
  },
  {
   "cell_type": "code",
   "execution_count": 1,
   "id": "68586755-54ae-4a03-9f40-468b10b12e17",
   "metadata": {},
   "outputs": [],
   "source": [
    "import numpy as np\n",
    "import matplotlib.pyplot as plt"
   ]
  },
  {
   "cell_type": "markdown",
   "id": "2d053f53-56ff-4307-bc8e-94bea9dff119",
   "metadata": {},
   "source": [
    "### Define and plot function"
   ]
  },
  {
   "cell_type": "code",
   "execution_count": 3,
   "id": "12ec23f1-4d5a-4710-8aad-3ecdef4c4c88",
   "metadata": {},
   "outputs": [],
   "source": [
    "def func(x):\n",
    "    return 0.5 + 0.1 * x + 0.2 * x**2 + 0.03 * x**3"
   ]
  },
  {
   "cell_type": "code",
   "execution_count": 4,
   "id": "35541821-0c82-422a-964a-2d0014c0abb8",
   "metadata": {},
   "outputs": [
    {
     "data": {
      "text/plain": [
       "[<matplotlib.lines.Line2D at 0x7f4ce479fd50>]"
      ]
     },
     "execution_count": 4,
     "metadata": {},
     "output_type": "execute_result"
    },
    {
     "data": {
      "image/png": "[encoded data removed]",
      "text/plain": [
       "<Figure size 640x480 with 1 Axes>"
      ]
     },
     "metadata": {},
     "output_type": "display_data"
    }
   ],
   "source": [
    "x_list = np.linspace(-3.5, 3.5, 71)\n",
    "plt.plot(x_list, func(x_list))"
   ]
  },
  {
   "cell_type": "markdown",
   "id": "17ecd7be-3ef9-4daa-8d48-e1b30294793c",
   "metadata": {},
   "source": [
    "### Analytical solution"
   ]
  },
  {
   "cell_type": "markdown",
   "id": "41946fa2-6f17-43ce-8dc5-c2a7db22e408",
   "metadata": {},
   "source": [
    "\\\\( f(x) = \\frac{1}{2} + \\frac{1}{10}x + \\frac{1}{5}x^2 + \\frac{3}{100}x^3 \\\\)\n",
    "\n",
    "\\\\( A = \\int_{-3}^3 f(x)\\,\\mathrm{d}x = \\int_{-3}^3\\left(\\frac{1}{2} + \\frac{1}{10}x + \\frac{1}{5}x^2 + \\frac{3}{100}x^3\\right)\\,\\mathrm{d}x = \\left[\\frac{1}{2}x + \\frac{1}{20}x^2 + \\frac{1}{15}x^3 + \\frac{3}{400}x^4\\right]_{-3}^3\\\\)"
   ]
  },
  {
   "cell_type": "code",
   "execution_count": 6,
   "id": "748a4d9c-7645-4cd6-9665-a8327170266c",
   "metadata": {},
   "outputs": [
    {
     "data": {
      "text/plain": [
       "6.6"
      ]
     },
     "execution_count": 6,
     "metadata": {},
     "output_type": "execute_result"
    }
   ],
   "source": [
    "( 1/2*(3) + 1/20*(3)**2 + 1/15*(3)**3 + 3/400*(3)**4 ) - ( 1/2*(-3) + 1/20*(-3)**2 + 1/15*(-3)**3 + 3/400*(-3)**4 )"
   ]
  },
  {
   "cell_type": "code",
   "execution_count": 7,
   "id": "b2d7c986-a439-4bef-9bcb-9c1854b12048",
   "metadata": {},
   "outputs": [],
   "source": [
    "x_points = np.linspace(-3,3,13)\n",
    "data = np.array([x_points, func(x_points)])"
   ]
  },
  {
   "cell_type": "code",
   "execution_count": 8,
   "id": "ac2d8a36-fb2e-4eef-8852-0dce05003e29",
   "metadata": {},
   "outputs": [
    {
     "data": {
      "text/plain": [
       "array([[-3.     , -2.5    , -2.     , -1.5    , -1.     , -0.5    ,\n",
       "         0.     ,  0.5    ,  1.     ,  1.5    ,  2.     ,  2.5    ,\n",
       "         3.     ],\n",
       "       [ 1.19   ,  1.03125,  0.86   ,  0.69875,  0.57   ,  0.49625,\n",
       "         0.5    ,  0.60375,  0.83   ,  1.20125,  1.74   ,  2.46875,\n",
       "         3.41   ]])"
      ]
     },
     "execution_count": 8,
     "metadata": {},
     "output_type": "execute_result"
    }
   ],
   "source": [
    "data\n"
   ]
  },
  {
   "cell_type": "code",
   "execution_count": null,
   "id": "b756ddea-5be1-4195-9d9d-7b7f288eddd1",
   "metadata": {},
   "outputs": [],
   "source": []
  }
 ],
 "metadata": {
  "kernelspec": {
   "display_name": "Python 3 (ipykernel)",
   "language": "python",
   "name": "python3"
  },
  "language_info": {
   "codemirror_mode": {
    "name": "ipython",
    "version": 3
   },
   "file_extension": ".py",
   "mimetype": "text/x-python",
   "name": "python",
   "nbconvert_exporter": "python",
   "pygments_lexer": "ipython3",
   "version": "3.11.6"
  }
 },
 "nbformat": 4,
 "nbformat_minor": 5
}
