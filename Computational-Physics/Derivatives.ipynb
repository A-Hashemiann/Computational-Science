{
 "cells": [
  {
   "cell_type": "markdown",
   "id": "892942e2-bb5a-4a48-a41a-1a2d349ec636",
   "metadata": {},
   "source": [
    "# Derivatives\n",
    "\n",
    " Amin Hashemian"
   ]
  },
  {
   "cell_type": "markdown",
   "id": "772974e9-4dc1-44dc-a455-b0bb33511969",
   "metadata": {},
   "source": [
    "## 1. Mathematical definition of a derivative"
   ]
  },
  {
   "cell_type": "markdown",
   "id": "242b6125-a8b0-409c-afff-2c34c19e080a",
   "metadata": {},
   "source": [
    "\\\\( f'(x)=\\lim_{h\\rightarrow 0}\\frac{f(x+h)-f(x)}{h}\\\\)\n",
    "\n",
    "\\\\( f'(x)=\\lim_{h\\rightarrow 0}\\frac{f(x)-f(x-h)}{h}\\\\)\n",
    "\n",
    "\\\\( f'(x)=\\lim_{h\\rightarrow 0}\\frac{f(x+h)-f(x-h)}{2h}\\\\)"
   ]
  },
  {
   "cell_type": "markdown",
   "id": "e131ba6a-aaac-4b6f-a16e-56e708d56d6d",
   "metadata": {},
   "source": [
    "All three definitions are equivalent in case of a continuous function."
   ]
  },
  {
   "cell_type": "markdown",
   "id": "b364ae15-b1a0-4376-a57d-61ac1da000e6",
   "metadata": {},
   "source": [
    "## 2. Numerical implementation of first-order derivatives"
   ]
  },
  {
   "cell_type": "markdown",
   "id": "35a05905-79f0-4cb2-bc94-9cdb8f7b5933",
   "metadata": {},
   "source": [
    "Forward differences\n",
    "\\\\( f'(x_n)\\approx\\frac{f(x_{n+1})-f(x_n)}{x_{n+1}-x_n}\\\\)\n",
    "\n",
    "Backward differences\n",
    "\\\\( f'(x)\\approx\\frac{f(x_n)-f(x_{n-1})}{x_n-x_{n-1}}\\\\)\n",
    "\n",
    "Central differences\n",
    "\\\\( f'(x)\\approx\\frac{f(x_{n+1})-f(x_{n-1})}{x_{n+1}-x_{n-1}}\\\\)"
   ]
  },
  {
   "cell_type": "markdown",
   "id": "c1970329-8b5b-498a-bf8b-7b98be131e47",
   "metadata": {},
   "source": [
    "### Example function: \\\\( f(x)=\\sin(x)x-\\frac{1}{100}x^3 \\\\)"
   ]
  },
  {
   "cell_type": "code",
   "execution_count": 2,
   "id": "23f45946-22c7-4380-9d95-61f23534a1b6",
   "metadata": {},
   "outputs": [],
   "source": [
    "import numpy as np\n",
    "import matplotlib.pyplot as plt"
   ]
  },
  {
   "cell_type": "code",
   "execution_count": 3,
   "id": "e5942561-0ca2-4487-863d-ca5510edc2d8",
   "metadata": {},
   "outputs": [],
   "source": [
    "def f(x):\n",
    "    return np.sin(x)*x - 1/100*x**3"
   ]
  },
  {
   "cell_type": "code",
   "execution_count": null,
   "id": "afb98371-3e18-45d3-9da3-4ce7f1ed3db3",
   "metadata": {},
   "outputs": [],
   "source": []
  }
 ],
 "metadata": {
  "kernelspec": {
   "display_name": "Python 3 (ipykernel)",
   "language": "python",
   "name": "python3"
  },
  "language_info": {
   "codemirror_mode": {
    "name": "ipython",
    "version": 3
   },
   "file_extension": ".py",
   "mimetype": "text/x-python",
   "name": "python",
   "nbconvert_exporter": "python",
   "pygments_lexer": "ipython3",
   "version": "3.11.6"
  }
 },
 "nbformat": 4,
 "nbformat_minor": 5
}
