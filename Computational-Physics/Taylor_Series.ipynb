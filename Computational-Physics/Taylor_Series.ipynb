{
 "cells": [
  {
   "cell_type": "markdown",
   "id": "5ae67bca-d81d-44cd-9ce6-2965bae64c79",
   "metadata": {},
   "source": [
    "# Interpolation of data\n",
    "- Amin Hashemian"
   ]
  },
  {
   "cell_type": "code",
   "execution_count": 6,
   "id": "64c0fada-c7ff-4786-bd8a-459bbc739042",
   "metadata": {},
   "outputs": [],
   "source": [
    "import numpy as np\n",
    "import matplotlib.pyplot as plt"
   ]
  },
  {
   "cell_type": "markdown",
   "id": "8ae60d61-7bcd-4cee-8e9e-12ce30e52af6",
   "metadata": {},
   "source": [
    "## 1. Taylor expansion"
   ]
  },
  {
   "cell_type": "code",
   "execution_count": null,
   "id": "d3da80cb-a613-4bad-b1bf-975f95d86766",
   "metadata": {},
   "outputs": [],
   "source": []
  }
 ],
 "metadata": {
  "kernelspec": {
   "display_name": "Python 3 (ipykernel)",
   "language": "python",
   "name": "python3"
  },
  "language_info": {
   "codemirror_mode": {
    "name": "ipython",
    "version": 3
   },
   "file_extension": ".py",
   "mimetype": "text/x-python",
   "name": "python",
   "nbconvert_exporter": "python",
   "pygments_lexer": "ipython3",
   "version": "3.11.4"
  }
 },
 "nbformat": 4,
 "nbformat_minor": 5
}
