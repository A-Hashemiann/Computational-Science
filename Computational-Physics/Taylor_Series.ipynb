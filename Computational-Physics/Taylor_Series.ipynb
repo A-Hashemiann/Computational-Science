{
 "cells": [
  {
   "cell_type": "markdown",
   "id": "5ae67bca-d81d-44cd-9ce6-2965bae64c79",
   "metadata": {},
   "source": [
    "# Interpolation of data\n",
    "- Amin Hashemian"
   ]
  },
  {
   "cell_type": "code",
   "execution_count": 6,
   "id": "64c0fada-c7ff-4786-bd8a-459bbc739042",
   "metadata": {},
   "outputs": [],
   "source": [
    "import numpy as np\n",
    "import matplotlib.pyplot as plt"
   ]
  },
  {
   "cell_type": "markdown",
   "id": "8ae60d61-7bcd-4cee-8e9e-12ce30e52af6",
   "metadata": {},
   "source": [
    "## 1. Taylor expansion"
   ]
  },
  {
   "cell_type": "markdown",
   "id": "68ff54b8-b405-4d2e-a2e7-b4e67acb3174",
   "metadata": {},
   "source": [
    "we can expand any continuous function as a polynomials\n",
    "\n",
    "\\\\( f(x)=\\sum_{n=0}^\\infty \\frac{1}{n!}f^{(n)}(x_0)\\,(x-x_0)^n\\\\)\n",
    "\n",
    "Here, \\\\( f^{(n)} \\\\) is the nth derivative and \\\\( x_0 \\\\) is the argument around which we expand the function"
   ]
  },
  {
   "cell_type": "markdown",
   "id": "d97f1e68-e351-411d-9f68-5bc78b7ed0e2",
   "metadata": {},
   "source": [
    "### 1.1 Example: Exponential function"
   ]
  },
  {
   "cell_type": "markdown",
   "id": "dc5bbb56-e7f5-4d2b-b589-0596b5095217",
   "metadata": {},
   "source": [
    "\\\\( f(x)=f'(x)=f''(x)=\\dots=f^{(n)}(x)=\\exp(x) \\\\)"
   ]
  },
  {
   "cell_type": "code",
   "execution_count": 9,
   "id": "8539756a-675e-49c0-b50c-792e78f05641",
   "metadata": {},
   "outputs": [],
   "source": [
    "def expTaylor(x, x0, nmax):\n",
    "    # x: Argument\n",
    "    # x0: Argument at which the derivatives will be calculated\n",
    "    # nmax: n at which the series will terminate\n",
    "    t = 0\n",
    "    for n in range(nmax+1):\n",
    "        t = t + np.exp(x0) * (x-x0)**n / np.math.factorial(n)\n",
    "    return t"
   ]
  },
  {
   "cell_type": "code",
   "execution_count": 10,
   "id": "ab143596-9be6-48ba-83c7-b87128cb6fda",
   "metadata": {},
   "outputs": [
    {
     "data": {
      "text/plain": [
       "2.7182818011463845"
      ]
     },
     "execution_count": 10,
     "metadata": {},
     "output_type": "execute_result"
    }
   ],
   "source": [
    "expTaylor(1, 0, 10)"
   ]
  },
  {
   "cell_type": "markdown",
   "id": "7eb2d36c-46d8-4e63-ba73-f612138ec0ef",
   "metadata": {},
   "source": [
    "### 1.2 Example: sin function at \\\\(x_0 = 0\\\\)"
   ]
  },
  {
   "cell_type": "markdown",
   "id": "6302821a-0063-4b4b-b698-4a786601ab64",
   "metadata": {},
   "source": [
    "\\\\( f(0) = f''(0) = f^{(4)}(0) = \\dots = 0 \\\\)\n",
    "\n",
    "\\\\( f'(0) = f^{(5)}(0) = f^{(9)}(0) = \\dots = 1 \\\\)\n",
    "\n",
    "\\\\( f'''(0) = f^{(7)}(0) = f^{(11)}(0) = \\dots = -1 \\\\)\n",
    "\n",
    "\\\\( \\sin(x) = x - \\frac{1}{3!}x^3 + \\frac{1}{5!}x^5  - \\frac{1}{7!}x^7 \\pm \\dots = \\sum_{n=0}^\\infty \\frac{(-1)^n}{(2n+1)!}x^{2n+1}\\\\)"
   ]
  },
  {
   "cell_type": "code",
   "execution_count": null,
   "id": "3fe208e8-f9f3-4b56-bac8-ff67e48c6b67",
   "metadata": {},
   "outputs": [],
   "source": []
  }
 ],
 "metadata": {
  "kernelspec": {
   "display_name": "Python 3 (ipykernel)",
   "language": "python",
   "name": "python3"
  },
  "language_info": {
   "codemirror_mode": {
    "name": "ipython",
    "version": 3
   },
   "file_extension": ".py",
   "mimetype": "text/x-python",
   "name": "python",
   "nbconvert_exporter": "python",
   "pygments_lexer": "ipython3",
   "version": "3.11.4"
  }
 },
 "nbformat": 4,
 "nbformat_minor": 5
}
