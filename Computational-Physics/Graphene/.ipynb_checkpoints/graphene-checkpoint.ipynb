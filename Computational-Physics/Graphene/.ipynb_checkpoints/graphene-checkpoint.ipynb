{
 "cells": [
  {
   "cell_type": "markdown",
   "id": "6fb9866e-d1c5-4061-b4eb-0b12ed6bdfdc",
   "metadata": {},
   "source": [
    "## Nanoribbons of graphene"
   ]
  },
  {
   "cell_type": "markdown",
   "id": "47f21140-2640-433b-84a0-4537659b8f8a",
   "metadata": {},
   "source": [
    "### Define and diagonalize the Hamilton matrix"
   ]
  },
  {
   "cell_type": "markdown",
   "id": "62c72a25-8691-4de5-b8b3-c6944cb15d42",
   "metadata": {},
   "source": [
    "\\\\( H = \\begin{pmatrix} \n",
    "0 & pb & 0 & 0 & \\dots \\\\ \n",
    "bp & 0 & br & 0 & \\dots \\\\ \n",
    "0 & rb & 0 & rg & \\dots \\\\ \n",
    "0 & 0 & gr & 0 & \\dots \\\\\n",
    "\\vdots & \\vdots & \\vdots & \\vdots & \\ddots\n",
    "\\end{pmatrix} \\\\)"
   ]
  },
  {
   "cell_type": "markdown",
   "id": "ed842e3f-a917-4e34-abb3-92ef40a3291c",
   "metadata": {},
   "source": [
    "Two-dimensional band structure of graphene"
   ]
  },
  {
   "cell_type": "markdown",
   "id": "b188cfc3-5406-4af2-9a57-cb89dcbcf70a",
   "metadata": {},
   "source": [
    "Classical electrons: \\\\( E(k) = \\frac{p^2}{2m} = \\frac{\\hbar^2}{2m}k^2\\\\)\n",
    "\n",
    "Relativistic electrons: \\\\( E(k) = \\pm\\sqrt{p^2c^2+m_0^2c^4}\\\\)\n",
    "\n",
    "Massless relativistic electrons: \\\\( E(k) = \\pm pc\\\\)"
   ]
  },
  {
   "cell_type": "markdown",
   "id": "e49792e9-d3c8-46ba-b57a-d17d4e9073e5",
   "metadata": {},
   "source": [
    "\\\\( \n",
    "pb = rg = \\exp\\left[ia_0\\left(\\frac{\\sqrt{3}}{2}k_x+\\frac{1}{2}k_y\\right)\\right] + \\exp\\left[ia_0\\left(-\\frac{\\sqrt{3}}{2}k_x+\\frac{1}{2}k_y\\right)\\right]\\\\\n",
    "bp = gr = \\exp\\left[-ia_0\\left(\\frac{\\sqrt{3}}{2}k_x+\\frac{1}{2}k_y\\right)\\right] + \\exp\\left[-ia_0\\left(-\\frac{\\sqrt{3}}{2}k_x+\\frac{1}{2}k_y\\right)\\right]\\\\\n",
    "br = gp = \\exp\\left(ia_0k_y\\right)\\\\\n",
    "rb = pg = \\exp\\left(-ia_0k_y\\right)\n",
    "\\\\)"
   ]
  },
  {
   "cell_type": "markdown",
   "id": "0363dba6-27d5-41e3-925e-48590be684f2",
   "metadata": {},
   "source": [
    "- $( k_x, k_y )$ are components of the wavevector $( \\mathbf{k} )$ in momentum space\n",
    "- $( a_0 )$ is a lattice constant (typically the nearest-neighbor distance in the lattice)\n",
    "- $( \\exp(ia) )$ represents a phase factor, often appearing in Bloch wavefunctions\n",
    "- The indices $( pb, rg ) $ refer to hopping terms between different sublattice sites or spin/orbital degrees of freedom\n"
   ]
  },
  {
   "cell_type": "markdown",
   "id": "e412e231-c96c-4fa8-b122-eaa4161a5f13",
   "metadata": {},
   "source": [
    "### Landau quantization & Quantum Hall effect"
   ]
  },
  {
   "cell_type": "markdown",
   "id": "b6887e97-625a-45a3-8712-a582c8a420ef",
   "metadata": {},
   "source": [
    "- When we introduce a magnetic field along z, the hopping terms are modified\n",
    "\n",
    "\\\\( \\vec{A}(\\vec{r}) = -B y \\vec{e}_x \\\\)\n",
    "\n",
    "\\\\( \\vec{B}(\\vec{r}) = \\nabla \\times \\vec{A}(\\vec{r}) \\\\)\n",
    "\n",
    "additional factor: \\\\( \\exp\\left(i\\int_\\mathrm{hopping}\\vec{A}\\cdot\\mathrm{d}\\vec{r}\\right) = \\exp\\left(-i(x_2-x_1) B \\frac{y_1+y_2}{2}\\right)\\\\)"
   ]
  },
  {
   "cell_type": "markdown",
   "id": "7146a007-ca70-436d-9163-dcc7d3e10bd6",
   "metadata": {},
   "source": [
    "## Twisted bilayers & Moire patterns"
   ]
  },
  {
   "cell_type": "code",
   "execution_count": 3,
   "id": "130180e9-1606-44ff-a6c7-19edf759fb32",
   "metadata": {},
   "outputs": [
    {
     "name": "stdout",
     "output_type": "stream",
     "text": [
      "twisting angle [°]:    2.645908381192724\n",
      "number of atoms (analytical, per sublattice):    468.99999999999994\n"
     ]
    }
   ],
   "source": [
    "import numpy as np\n",
    "import matplotlib.pyplot as plt\n",
    "\n",
    "plt.rcParams[\"figure.figsize\"] = (10,5)\n",
    "a0 = 1.418 # [a0] = A = 10^(-10) m\n",
    "latlength = np.sqrt(3.) * a0\n",
    "z0 = -3.349\n",
    "twist = 12\n",
    "nmax = 4*twist\n",
    "alpha =  2. * np.arctan(np.sqrt(3.)/2./(3.*twist+1.5))\n",
    "\n",
    "print (\"twisting angle [°]:   \",alpha*180/np.pi)\n",
    "print (\"number of atoms (analytical, per sublattice):   \", ((3.*twist+1.5)**2+(np.sqrt(3.)/2.)**2)*np.sin(np.pi/3.)/(3*np.sin(np.pi/3)))"
   ]
  },
  {
   "cell_type": "code",
   "execution_count": 5,
   "id": "daafea36-c610-4622-8aa5-cf0f026e40ea",
   "metadata": {},
   "outputs": [],
   "source": [
    "# lattice vectors sublattice 1\n",
    "a1 = latlength * np.array([1., 0., 0.])\n",
    "a2 = latlength * np.array([-0.5, np.sqrt(3.)/2., 0.])\n",
    "\n",
    "# lattice vectors sublattice 2\n",
    "b1 = np.array([ np.cos(alpha) * a1[0] - np.sin(alpha) * a1[1], np.sin(alpha) * a1[0] + np.cos(alpha) * a1[1], 0. ])\n",
    "b2 = np.array([ np.cos(alpha) * a2[0] - np.sin(alpha) * a2[1], np.sin(alpha) * a2[0] + np.cos(alpha) * a2[1], 0. ])\n"
   ]
  },
  {
   "cell_type": "code",
   "execution_count": null,
   "id": "4b804e10-501b-4eac-8426-ff88403128da",
   "metadata": {},
   "outputs": [],
   "source": []
  }
 ],
 "metadata": {
  "kernelspec": {
   "display_name": "basics(env)",
   "language": "python",
   "name": "basicsenv"
  },
  "language_info": {
   "codemirror_mode": {
    "name": "ipython",
    "version": 3
   },
   "file_extension": ".py",
   "mimetype": "text/x-python",
   "name": "python",
   "nbconvert_exporter": "python",
   "pygments_lexer": "ipython3",
   "version": "3.12.4"
  }
 },
 "nbformat": 4,
 "nbformat_minor": 5
}
