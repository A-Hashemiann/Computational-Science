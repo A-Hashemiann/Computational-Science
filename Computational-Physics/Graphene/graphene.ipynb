{
 "cells": [
  {
   "cell_type": "markdown",
   "id": "6fb9866e-d1c5-4061-b4eb-0b12ed6bdfdc",
   "metadata": {},
   "source": [
    "## Nanoribbons of graphene"
   ]
  },
  {
   "cell_type": "markdown",
   "id": "47f21140-2640-433b-84a0-4537659b8f8a",
   "metadata": {},
   "source": [
    "### Define and diagonalize the Hamilton matrix"
   ]
  },
  {
   "cell_type": "markdown",
   "id": "62c72a25-8691-4de5-b8b3-c6944cb15d42",
   "metadata": {},
   "source": [
    "\\\\( H = \\begin{pmatrix} \n",
    "0 & pb & 0 & 0 & \\dots \\\\ \n",
    "bp & 0 & br & 0 & \\dots \\\\ \n",
    "0 & rb & 0 & rg & \\dots \\\\ \n",
    "0 & 0 & gr & 0 & \\dots \\\\\n",
    "\\vdots & \\vdots & \\vdots & \\vdots & \\ddots\n",
    "\\end{pmatrix} \\\\)"
   ]
  },
  {
   "cell_type": "code",
   "execution_count": null,
   "id": "b4bf2188-17c6-4695-b6ed-da36ca7af6ed",
   "metadata": {},
   "outputs": [],
   "source": []
  }
 ],
 "metadata": {
  "kernelspec": {
   "display_name": "basics(env)",
   "language": "python",
   "name": "basicsenv"
  },
  "language_info": {
   "codemirror_mode": {
    "name": "ipython",
    "version": 3
   },
   "file_extension": ".py",
   "mimetype": "text/x-python",
   "name": "python",
   "nbconvert_exporter": "python",
   "pygments_lexer": "ipython3",
   "version": "3.12.4"
  }
 },
 "nbformat": 4,
 "nbformat_minor": 5
}
