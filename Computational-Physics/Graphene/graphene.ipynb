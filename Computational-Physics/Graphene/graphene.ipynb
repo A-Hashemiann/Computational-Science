{
 "cells": [
  {
   "cell_type": "markdown",
   "id": "6fb9866e-d1c5-4061-b4eb-0b12ed6bdfdc",
   "metadata": {},
   "source": [
    "## Nanoribbons of graphene"
   ]
  },
  {
   "cell_type": "markdown",
   "id": "47f21140-2640-433b-84a0-4537659b8f8a",
   "metadata": {},
   "source": [
    "### Define and diagonalize the Hamilton matrix"
   ]
  },
  {
   "cell_type": "markdown",
   "id": "62c72a25-8691-4de5-b8b3-c6944cb15d42",
   "metadata": {},
   "source": [
    "\\\\( H = \\begin{pmatrix} \n",
    "0 & pb & 0 & 0 & \\dots \\\\ \n",
    "bp & 0 & br & 0 & \\dots \\\\ \n",
    "0 & rb & 0 & rg & \\dots \\\\ \n",
    "0 & 0 & gr & 0 & \\dots \\\\\n",
    "\\vdots & \\vdots & \\vdots & \\vdots & \\ddots\n",
    "\\end{pmatrix} \\\\)"
   ]
  },
  {
   "cell_type": "markdown",
   "id": "ed842e3f-a917-4e34-abb3-92ef40a3291c",
   "metadata": {},
   "source": [
    "Two-dimensional band structure of graphene"
   ]
  },
  {
   "cell_type": "markdown",
   "id": "b188cfc3-5406-4af2-9a57-cb89dcbcf70a",
   "metadata": {},
   "source": [
    "Classical electrons: \\\\( E(k) = \\frac{p^2}{2m} = \\frac{\\hbar^2}{2m}k^2\\\\)\n",
    "\n",
    "Relativistic electrons: \\\\( E(k) = \\pm\\sqrt{p^2c^2+m_0^2c^4}\\\\)\n",
    "\n",
    "Massless relativistic electrons: \\\\( E(k) = \\pm pc\\\\)"
   ]
  },
  {
   "cell_type": "markdown",
   "id": "e49792e9-d3c8-46ba-b57a-d17d4e9073e5",
   "metadata": {},
   "source": [
    "\\\\( \n",
    "pb = rg = \\exp\\left[ia_0\\left(\\frac{\\sqrt{3}}{2}k_x+\\frac{1}{2}k_y\\right)\\right] + \\exp\\left[ia_0\\left(-\\frac{\\sqrt{3}}{2}k_x+\\frac{1}{2}k_y\\right)\\right]\\\\\n",
    "bp = gr = \\exp\\left[-ia_0\\left(\\frac{\\sqrt{3}}{2}k_x+\\frac{1}{2}k_y\\right)\\right] + \\exp\\left[-ia_0\\left(-\\frac{\\sqrt{3}}{2}k_x+\\frac{1}{2}k_y\\right)\\right]\\\\\n",
    "br = gp = \\exp\\left(ia_0k_y\\right)\\\\\n",
    "rb = pg = \\exp\\left(-ia_0k_y\\right)\n",
    "\\\\)"
   ]
  },
  {
   "cell_type": "markdown",
   "id": "0363dba6-27d5-41e3-925e-48590be684f2",
   "metadata": {},
   "source": [
    "- $( k_x, k_y )$ are components of the wavevector $( \\mathbf{k} )$ in momentum space\n",
    "- $( a_0 )$ is a lattice constant (typically the nearest-neighbor distance in the lattice)\n",
    "- $( \\exp(ia) )$ represents a phase factor, often appearing in Bloch wavefunctions\n",
    "- The indices $( pb, rg ) $ refer to hopping terms between different sublattice sites or spin/orbital degrees of freedom\n"
   ]
  },
  {
   "cell_type": "code",
   "execution_count": null,
   "id": "0054dffe-5df5-4e04-b55e-bfc71bbccee6",
   "metadata": {},
   "outputs": [],
   "source": []
  }
 ],
 "metadata": {
  "kernelspec": {
   "display_name": "basics(env)",
   "language": "python",
   "name": "basicsenv"
  },
  "language_info": {
   "codemirror_mode": {
    "name": "ipython",
    "version": 3
   },
   "file_extension": ".py",
   "mimetype": "text/x-python",
   "name": "python",
   "nbconvert_exporter": "python",
   "pygments_lexer": "ipython3",
   "version": "3.12.4"
  }
 },
 "nbformat": 4,
 "nbformat_minor": 5
}
