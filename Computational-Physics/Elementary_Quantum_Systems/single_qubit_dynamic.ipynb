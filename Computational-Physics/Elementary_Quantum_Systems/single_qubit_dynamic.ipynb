{
 "cells": [
  {
   "cell_type": "code",
   "execution_count": 3,
   "id": "2c5a0438-dab2-4b40-98ab-205cf56353d1",
   "metadata": {},
   "outputs": [],
   "source": [
    "import matplotlib.pyplot as plt\n",
    "import numpy as np\n",
    "from qutip import Bloch, about, basis, mesolve, sigmam, sigmax, sigmay, sigmaz\n",
    "\n",
    "%matplotlib inline"
   ]
  },
  {
   "cell_type": "code",
   "execution_count": 4,
   "id": "c21b1523-d7dc-481f-a998-9394dc9c75ff",
   "metadata": {},
   "outputs": [],
   "source": [
    "\n",
    "delta = 2 * np.pi\n",
    "g = 0.25\n",
    "# hamiltonian\n",
    "H = delta / 2.0 * sigmax()\n",
    "# list of collapse operators\n",
    "c_ops = [np.sqrt(g) * sigmaz()]\n",
    "\n",
    "# initial state\n",
    "psi0 = basis(2, 0)\n",
    "\n",
    "# times\n",
    "tlist = np.linspace(0, 5, 100)"
   ]
  },
  {
   "cell_type": "markdown",
   "id": "18c016ef-f745-42c4-bd6b-0f81a9dc2e83",
   "metadata": {},
   "source": [
    "Time-evolution"
   ]
  },
  {
   "cell_type": "code",
   "execution_count": 6,
   "id": "648beca5-62a9-45b2-964c-0e070c24859f",
   "metadata": {},
   "outputs": [],
   "source": [
    "res = mesolve(H, psi0, tlist, c_ops, [sigmaz()])"
   ]
  },
  {
   "cell_type": "code",
   "execution_count": null,
   "id": "3ceda465-61b6-4906-a784-a2c0c8f177dc",
   "metadata": {},
   "outputs": [],
   "source": []
  }
 ],
 "metadata": {
  "kernelspec": {
   "display_name": "basics(env)",
   "language": "python",
   "name": "basicsenv"
  },
  "language_info": {
   "codemirror_mode": {
    "name": "ipython",
    "version": 3
   },
   "file_extension": ".py",
   "mimetype": "text/x-python",
   "name": "python",
   "nbconvert_exporter": "python",
   "pygments_lexer": "ipython3",
   "version": "3.12.4"
  }
 },
 "nbformat": 4,
 "nbformat_minor": 5
}
