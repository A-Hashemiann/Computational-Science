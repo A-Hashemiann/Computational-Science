{
 "cells": [
  {
   "cell_type": "code",
   "execution_count": 1,
   "id": "c0064911-bef1-4042-a496-052767f37cbc",
   "metadata": {},
   "outputs": [],
   "source": [
    "import matplotlib.pyplot as plt\n",
    "import numpy as np\n",
    "from qutip import about, basis, destroy, mesolve, qeye, sigmaz, tensor\n",
    "\n",
    "%matplotlib inline"
   ]
  },
  {
   "cell_type": "markdown",
   "id": "e33d5db9-605c-4092-8162-857627a4a6e3",
   "metadata": {},
   "source": [
    "the Jaynes-Cumming model is the simplest possible model of quantum mechanical light-matter interaction"
   ]
  },
  {
   "cell_type": "markdown",
   "id": "1adf57a6-f097-47ea-8d24-ec8e0e416d83",
   "metadata": {},
   "source": [
    "# $H = \\hbar \\omega_c a^\\dagger a + \\frac{1}{2}\\hbar\\omega_a\\sigma_z + \\hbar g(a^\\dagger + a)(\\sigma_- + \\sigma_+)$\n",
    "\n",
    "# or with the rotating-wave approximation\n",
    "\n",
    "# $H_{\\rm RWA} = \\hbar \\omega_c a^\\dagger a + \\frac{1}{2}\\hbar\\omega_a\\sigma_z + \\hbar g(a^\\dagger\\sigma_- + a\\sigma_+)$\n",
    "\n",
    "$\\hbar = 1$:"
   ]
  },
  {
   "cell_type": "code",
   "execution_count": 2,
   "id": "2c3bca0a-a691-4a47-861a-b9c84243e7c5",
   "metadata": {},
   "outputs": [],
   "source": [
    "N = 15  # number of cavity fock states\n",
    "wc = 1.0 * 2 * np.pi  # cavity frequency\n",
    "wa = 1.0 * 2 * np.pi  # atom frequency\n",
    "g = 0.05 * 2 * np.pi  # coupling strength\n",
    "kappa = 0.005  # cavity dissipation rate\n",
    "gamma = 0.05  # atom dissipation rate\n",
    "n_th_a = 0.0  # temperature in frequency units\n",
    "use_rwa = True\n",
    "\n",
    "tlist = np.linspace(0, 40, 100)"
   ]
  },
  {
   "cell_type": "code",
   "execution_count": null,
   "id": "eb5dd58e-ba72-4606-af8a-bc856a24c5a5",
   "metadata": {},
   "outputs": [],
   "source": []
  }
 ],
 "metadata": {
  "kernelspec": {
   "display_name": "basics(env)",
   "language": "python",
   "name": "basicsenv"
  },
  "language_info": {
   "codemirror_mode": {
    "name": "ipython",
    "version": 3
   },
   "file_extension": ".py",
   "mimetype": "text/x-python",
   "name": "python",
   "nbconvert_exporter": "python",
   "pygments_lexer": "ipython3",
   "version": "3.12.4"
  }
 },
 "nbformat": 4,
 "nbformat_minor": 5
}
