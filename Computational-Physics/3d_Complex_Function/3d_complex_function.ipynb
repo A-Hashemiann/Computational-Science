{
 "cells": [
  {
   "cell_type": "code",
   "execution_count": null,
   "id": "3aedae0b-a05b-441a-8519-be875056cab4",
   "metadata": {},
   "outputs": [],
   "source": [
    "import numpy as np\n",
    "import matplotlib.pyplot as plt\n",
    "from matplotlib import cm\n",
    "\n",
    "\n",
    "x = np.linspace(-2, 2, 400)\n",
    "y = np.linspace(-2, 2, 400)\n",
    "X, Y = np.meshgrid(x, y)\n",
    "Z = X + 1j * Y\n",
    "\n",
    "\n",
    "Z[np.abs(Z) < 1e-10] = np.nan\n",
    "\n",
    "# defining the complex function f(z) = 1/z example\n",
    "f = 1 / Z\n",
    "\n",
    "\n",
    "magnitude = np.abs(f)\n",
    "phase = np.angle(f)\n",
    "\n",
    "\n",
    "normalized_phase = (phase + np.pi) / (2 * np.pi)  # now in [0, 1]\n",
    "\n",
    "\n",
    "colors = cm.hsv(normalized_phase)\n",
    "\n",
    "\n",
    "fig = plt.figure(figsize=(10, 7))\n",
    "ax = fig.add_subplot(111, projection='3d')\n",
    "\n",
    "\n",
    "surf = ax.plot_surface(X, Y, magnitude,\n",
    "                       facecolors=colors,\n",
    "                       rstride=1, cstride=1,\n",
    "                       linewidth=0, antialiased=False)\n",
    "\n",
    "ax.set_title('3D Visualization of f(z) = 1/z')\n",
    "ax.set_xlabel('Re(z)')\n",
    "ax.set_ylabel('Im(z)')\n",
    "ax.set_zlabel('|f(z)|')\n",
    "\n",
    "\n",
    "ax.grid(False)\n",
    "ax.view_init(elev=45, azim=135)\n",
    "\n",
    "plt.show()\n"
   ]
  },
  {
   "cell_type": "code",
   "execution_count": null,
   "id": "994b73b3-b677-43f1-81fd-bbf3fcb8600f",
   "metadata": {},
   "outputs": [],
   "source": [
    "import matplotlib.pyplot as plt\n",
    "from mpl_toolkits.mplot3d import Axes3D\n",
    "import numpy as np\n",
    "\n",
    "fig = plt.figure()\n",
    "ax = fig.add_subplot(111, projection='3d')\n",
    "\n",
    "# Create a sphere\n",
    "u = np.linspace(0, 2 * np.pi, 100)\n",
    "v = np.linspace(0, np.pi, 100)\n",
    "x = np.outer(np.cos(u), np.sin(v))\n",
    "y = np.outer(np.sin(u), np.sin(v))\n",
    "z = np.outer(np.ones(np.size(u)), np.cos(v))\n",
    "ax.plot_surface(x, y, z, color='r')\n",
    "\n",
    "# Create a cube (simplified as a wireframe)\n",
    "cube_vertices = np.array([[1, 1, 1], [1, 1, -1], [1, -1, -1], [1, -1, 1],\n",
    "                         [-1, 1, 1], [-1, 1, -1], [-1, -1, -1], [-1, -1, 1]])\n",
    "ax.scatter(cube_vertices[:,0]+3, cube_vertices[:,1], cube_vertices[:,2], color='b')\n",
    "\n",
    "plt.show()"
   ]
  },
  {
   "cell_type": "code",
   "execution_count": null,
   "id": "ab9962a0-2a0d-4da8-af20-5564800180ba",
   "metadata": {},
   "outputs": [],
   "source": []
  }
 ],
 "metadata": {
  "kernelspec": {
   "display_name": "basics(env)",
   "language": "python",
   "name": "basicsenv"
  },
  "language_info": {
   "codemirror_mode": {
    "name": "ipython",
    "version": 3
   },
   "file_extension": ".py",
   "mimetype": "text/x-python",
   "name": "python",
   "nbconvert_exporter": "python",
   "pygments_lexer": "ipython3",
   "version": "3.12.4"
  }
 },
 "nbformat": 4,
 "nbformat_minor": 5
}
