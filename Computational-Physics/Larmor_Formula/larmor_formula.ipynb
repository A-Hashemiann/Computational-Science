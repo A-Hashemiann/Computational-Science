{
 "cells": [
  {
   "cell_type": "markdown",
   "id": "e8b2f130-1744-46f1-97ca-3798ee43fd7f",
   "metadata": {},
   "source": [
    "# Larmor Formula\n",
    "\n",
    "The formula of Larmor represents the amount of electromagnetic radiation released by a particle as a result of its acceleration in classical electrodynamics. It establishes the rate at which electrically charged particles in motion release energy in terms of electromagnetic radiation.\n",
    "\n",
    "## Formula\n",
    "\n",
    "\\\\[ P = \\frac{e^2 \\ddot{r}^2}{6 \\pi \\epsilon_0 c^3} \\\\]\n",
    "\n",
    "## Components\n",
    "\n",
    "- **\\\\( P \\\\)**: Power radiated by the accelerating charge. Power is the rate at which energy is emitted per unit time.\n",
    "- **\\\\( e \\\\)**: Electric charge of the particle. For example, for an electron, \\\\( e \\\\) is approximately \\\\( 1.602 \\\\times 10^{-19} \\\\) coulombs.\n",
    "- **\\\\( \\ddot{r} \\\\) (or \\\\( a \\\\))**: Acceleration of the charged particle. This is the second derivative of the position vector \\\\( r \\\\) with respect to time, representing how quickly the velocity of the particle is changing.\n",
    "- **\\\\( \\epsilon_0 \\\\)**: Permittivity of free space (vacuum permittivity), a fundamental physical constant with a value of approximately \\\\( 8.854 \\\\times 10^{-12} \\\\) farads per meter (F/m).\n",
    "- **\\\\( c \\\\)**: Speed of light in vacuum, approximately \\\\( 3 \\times 10^8 \\\\) meters per second (m/s).\n"
   ]
  },
  {
   "cell_type": "markdown",
   "id": "e9a6f9d5-b7ba-43bf-ae82-3ac56094fbe0",
   "metadata": {},
   "source": [
    "## Physical Interpretation\n",
    "\n",
    "In situation where an electrically charged object moves, emits radiation related to magnitude of charge as well as its acceleration. This energy decreases as the numbers of free space rise with increasing light speeds according to Larmor’s formula. This means:\n",
    "\n",
    "- **Higher Charge**: The greater the charge of the particle, the more power it radiates when accelerating.\n",
    "- **Higher Acceleration**: The more rapidly the particle accelerates, the more power it radiates.\n",
    "- **Fundamental Constants**: The constants \\\\( \\epsilon_0 \\\\) and \\\\( c \\\\) indicate that this radiation depends on fundamental properties of space and light.\n"
   ]
  },
  {
   "cell_type": "markdown",
   "id": "7303d3a0-f76c-477d-9544-9db4312b1fce",
   "metadata": {},
   "source": [
    "## Derivation and Context\n",
    "\n",
    "- The formula is derived from Maxwell's equations, which govern the behavior of electric and magnetic fields.\n",
    "- It applies in non-relativistic contexts where the speed of the particle is much less than the speed of light.\n",
    "- It is particularly useful in understanding phenomena such as synchrotron radiation, where electrons moving in magnetic fields emit radiation due to their acceleration.\n",
    "\n",
    "## Applications\n",
    "\n",
    "The Larmor formula has several important applications in physics:\n",
    "\n",
    "- **Astrophysics**: Describing radiation from charged particles in cosmic settings, such as electrons in magnetic fields around stars.\n",
    "- **Accelerator Physics**: Understanding the radiation losses of electrons in synchrotrons and storage rings.\n",
    "- **Radiation Mechanisms**: Exploring mechanisms behind various types of radiation emitted by accelerating charges, such as Bremsstrahlung.\n"
   ]
  },
  {
   "cell_type": "code",
   "execution_count": 9,
   "id": "bb55a943-4830-455c-bfa7-d4eab74d23ae",
   "metadata": {},
   "outputs": [
    {
     "name": "stdout",
     "output_type": "stream",
     "text": [
      "The power radiated by the particle is 5.707e-18 watts.\n"
     ]
    }
   ],
   "source": [
    "import scipy.constants as const\n",
    "\n",
    "def larmor_power(charge, acceleration):\n",
    "    \"\"\"\n",
    "    compute the power radiated by an accelerating charged particle using the Larmor formula.\n",
    "\n",
    "    Parameters:\n",
    "    charge (float): Charge of the particle in coulombs.\n",
    "    acceleration (float): Acceleration of the particle in meters per second squared.\n",
    "\n",
    "    returns:\n",
    "    float: Power radiated in watts.\n",
    "    \"\"\"\n",
    "    epsilon_0 = const.epsilon_0  # permittivity of free space in F/m\n",
    "    c = const.c  # speed of light in m/s\n",
    "\n",
    "    # Larmor formula\n",
    "    power = (charge**2 * acceleration**2) / (6 * const.pi * epsilon_0 * c**3)\n",
    "    return power\n",
    "\n",
    "# example usage\n",
    "if __name__ == \"__main__\":\n",
    "    charge = 1.602e-19  # charge of an electron in coulombs\n",
    "    acceleration = 1e18  # example acceleration in m/s^2\n",
    "\n",
    "    radiated_power = larmor_power(charge, acceleration)\n",
    "    print(f\"The power radiated by the particle is {radiated_power:.3e} watts.\")"
   ]
  },
  {
   "cell_type": "code",
   "execution_count": null,
   "id": "d39c1f76-8d12-4a44-8be5-8ff3c951ebba",
   "metadata": {},
   "outputs": [],
   "source": []
  }
 ],
 "metadata": {
  "kernelspec": {
   "display_name": "Python 3 (ipykernel)",
   "language": "python",
   "name": "python3"
  },
  "language_info": {
   "codemirror_mode": {
    "name": "ipython",
    "version": 3
   },
   "file_extension": ".py",
   "mimetype": "text/x-python",
   "name": "python",
   "nbconvert_exporter": "python",
   "pygments_lexer": "ipython3",
   "version": "3.11.6"
  }
 },
 "nbformat": 4,
 "nbformat_minor": 5
}
