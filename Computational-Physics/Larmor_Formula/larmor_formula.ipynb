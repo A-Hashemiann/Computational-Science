{
 "cells": [
  {
   "cell_type": "markdown",
   "id": "e8b2f130-1744-46f1-97ca-3798ee43fd7f",
   "metadata": {},
   "source": [
    "# Larmor Formula\n",
    "\n",
    "The formula of Larmor represents the amount of electromagnetic radiation released by a particle as a result of its acceleration in classical electrodynamics. It establishes the rate at which electrically charged particles in motion release energy in terms of electromagnetic radiation.\n",
    "\n",
    "## Formula\n",
    "\n",
    "\\\\[ P = \\frac{e^2 \\ddot{r}^2}{6 \\pi \\epsilon_0 c^3} \\\\]\n",
    "\n",
    "## Components\n",
    "\n",
    "- **\\\\( P \\\\)**: Power radiated by the accelerating charge. Power is the rate at which energy is emitted per unit time.\n",
    "- **\\\\( e \\\\)**: Electric charge of the particle. For example, for an electron, \\\\( e \\\\) is approximately \\\\( 1.602 \\\\times 10^{-19} \\\\) coulombs.\n",
    "- **\\\\( \\ddot{r} \\\\) (or \\\\( a \\\\))**: Acceleration of the charged particle. This is the second derivative of the position vector \\\\( r \\\\) with respect to time, representing how quickly the velocity of the particle is changing.\n",
    "- **\\\\( \\epsilon_0 \\\\)**: Permittivity of free space (vacuum permittivity), a fundamental physical constant with a value of approximately \\\\( 8.854 \\\\times 10^{-12} \\\\) farads per meter (F/m).\n",
    "- **\\\\( c \\\\)**: Speed of light in vacuum, approximately \\\\( 3 \\times 10^8 \\\\) meters per second (m/s).\n"
   ]
  },
  {
   "cell_type": "markdown",
   "id": "e9a6f9d5-b7ba-43bf-ae82-3ac56094fbe0",
   "metadata": {},
   "source": [
    "## Physical Interpretation\n",
    "\n",
    "In situation where an electrically charged object moves, emits radiation related to magnitude of charge as well as its acceleration. This energy decreases as the numbers of free space rise with increasing light speeds according to Larmor’s formula. This means:\n",
    "\n",
    "- **Higher Charge**: The greater the charge of the particle, the more power it radiates when accelerating.\n",
    "- **Higher Acceleration**: The more rapidly the particle accelerates, the more power it radiates.\n",
    "- **Fundamental Constants**: The constants \\\\( \\epsilon_0 \\\\) and \\\\( c \\\\) indicate that this radiation depends on fundamental properties of space and light.\n"
   ]
  },
  {
   "cell_type": "code",
   "execution_count": null,
   "id": "b8701f2b-be3a-4149-ba31-191bf03f2a29",
   "metadata": {},
   "outputs": [],
   "source": []
  }
 ],
 "metadata": {
  "kernelspec": {
   "display_name": "Python 3 (ipykernel)",
   "language": "python",
   "name": "python3"
  },
  "language_info": {
   "codemirror_mode": {
    "name": "ipython",
    "version": 3
   },
   "file_extension": ".py",
   "mimetype": "text/x-python",
   "name": "python",
   "nbconvert_exporter": "python",
   "pygments_lexer": "ipython3",
   "version": "3.11.6"
  }
 },
 "nbformat": 4,
 "nbformat_minor": 5
}
