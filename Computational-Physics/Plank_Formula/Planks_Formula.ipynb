{
 "cells": [
  {
   "cell_type": "markdown",
   "id": "a47e174b-13bc-4583-a4a1-9c6413ff8e00",
   "metadata": {},
   "source": [
    "# Planck's Law\n",
    "The spectral density of electromagnetic radiation emitted by a black body in thermal equilibrium at a specific temperature is described by Planck's law. This fundamental law of quantum mechanics offers a theoretical framework for comprehending how electromagnetic radiation from objects is distributed."
   ]
  },
  {
   "cell_type": "code",
   "execution_count": 2,
   "id": "69b20f38-6a50-4922-b387-661dfc4628af",
   "metadata": {},
   "outputs": [],
   "source": [
    "# constants\n",
    "h = 6.62607015e-34  # Planck's constant (J·s)\n",
    "c = 2.99792458e8    # Speed of light in vacuum (m/s)\n",
    "k_B = 1.380649e-23  # Boltzmann's constant (J/K)"
   ]
  }
 ],
 "metadata": {
  "kernelspec": {
   "display_name": "Python 3 (ipykernel)",
   "language": "python",
   "name": "python3"
  },
  "language_info": {
   "codemirror_mode": {
    "name": "ipython",
    "version": 3
   },
   "file_extension": ".py",
   "mimetype": "text/x-python",
   "name": "python",
   "nbconvert_exporter": "python",
   "pygments_lexer": "ipython3",
   "version": "3.11.6"
  }
 },
 "nbformat": 4,
 "nbformat_minor": 5
}
