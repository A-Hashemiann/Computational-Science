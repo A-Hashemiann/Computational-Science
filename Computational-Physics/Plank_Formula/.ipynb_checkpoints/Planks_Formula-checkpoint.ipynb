{
 "cells": [
  {
   "cell_type": "code",
   "execution_count": 1,
   "id": "bdf35f02-c258-4778-b3c4-90071fc88c6b",
   "metadata": {},
   "outputs": [],
   "source": [
    "import numpy as np\n",
    "import matplotlib.pyplot as plt"
   ]
  },
  {
   "cell_type": "code",
   "execution_count": null,
   "id": "69b20f38-6a50-4922-b387-661dfc4628af",
   "metadata": {},
   "outputs": [],
   "source": [
    "# constants\n",
    "h = 6.62607015e-34  # Planck's constant (J·s)\n",
    "c = 2.99792458e8    # Speed of light in vacuum (m/s)\n",
    "k_B = 1.380649e-23  # Boltzmann's constant (J/K)"
   ]
  }
 ],
 "metadata": {
  "kernelspec": {
   "display_name": "Python 3 (ipykernel)",
   "language": "python",
   "name": "python3"
  },
  "language_info": {
   "codemirror_mode": {
    "name": "ipython",
    "version": 3
   },
   "file_extension": ".py",
   "mimetype": "text/x-python",
   "name": "python",
   "nbconvert_exporter": "python",
   "pygments_lexer": "ipython3",
   "version": "3.11.6"
  }
 },
 "nbformat": 4,
 "nbformat_minor": 5
}
